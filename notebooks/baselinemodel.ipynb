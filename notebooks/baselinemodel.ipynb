{
 "cells": [
  {
   "cell_type": "code",
   "execution_count": 50,
   "metadata": {},
   "outputs": [
    {
     "name": "stderr",
     "output_type": "stream",
     "text": [
      "[nltk_data] Downloading package wordnet to /Users/kw/nltk_data...\n",
      "[nltk_data]   Package wordnet is already up-to-date!\n",
      "[nltk_data] Downloading package omw-1.4 to /Users/kw/nltk_data...\n",
      "[nltk_data]   Package omw-1.4 is already up-to-date!\n"
     ]
    }
   ],
   "source": [
    "import pandas as pd\n",
    "import numpy as np\n",
    "# Initialization\n",
    "import nltk \n",
    "from sklearn.feature_extraction.text import CountVectorizer, TfidfVectorizer\n",
    "from tqdm import tqdm\n",
    "nltk.download('wordnet')\n",
    "nltk.download('omw-1.4')\n",
    "from cleanup_functions import *\n",
    "from sklearn.metrics import accuracy_score, precision_score, recall_score, f1_score, roc_auc_score, roc_curve\n",
    "from nltk.stem.wordnet import WordNetLemmatizer\n",
    "WNlemma = nltk.WordNetLemmatizer()\n",
    "stemmer = nltk.PorterStemmer()\n",
    "from nltk.tokenize import TweetTokenizer\n",
    "import sys\n",
    "# insert at 1, 0 is the script path (or '' in REPL)\n",
    "sys.path.insert(1, '../modeling')\n",
    "from toolbox import fit_nlp, nlp_preprocess, cross_validation_score\n"
   ]
  },
  {
   "cell_type": "code",
   "execution_count": 51,
   "metadata": {},
   "outputs": [],
   "source": [
    "# data\n",
    "INPUT_NAME='train_wikipedia'\n",
    "#INPUT_NAME='train_civil'\n",
    "\n",
    "df=pd.read_csv(\"../data/\"+INPUT_NAME+ \".csv\")\n",
    "df = df.reset_index(drop=True)"
   ]
  },
  {
   "cell_type": "markdown",
   "metadata": {},
   "source": [
    "Get list of toxic words"
   ]
  },
  {
   "cell_type": "code",
   "execution_count": 52,
   "metadata": {},
   "outputs": [],
   "source": [
    "#X = train.loc[train['toxic'] == 1, 'comment_text'] \n",
    "X = df['comment_text'] \n",
    "Y = df['toxic']"
   ]
  },
  {
   "cell_type": "code",
   "execution_count": 57,
   "metadata": {},
   "outputs": [
    {
     "name": "stdout",
     "output_type": "stream",
     "text": [
      "Vectorizing and Tokenizing...\n",
      "Done!\n"
     ]
    }
   ],
   "source": [
    "#########################################\n",
    "# set parameters\n",
    "#########################################\n",
    "min_df = 20 # 1 20\n",
    "stop_words = 'english' # {} 'english'\n",
    "ngram = 1 # 1, 2\n",
    "lowercase = True # True, False\n",
    "tokenizer = tweettokenizer\n",
    "vectorizer = CountVectorizer # TfidfVectorizer CountVectorizer\n",
    "word_generalization = WNlemma.lemmatize # stemmer.stem WNlemma.lemmatize\n",
    "\n",
    "#########################################\n",
    "# preprocess and fit models\n",
    "#########################################\n",
    "\n",
    "from toolbox import nlp_preprocess\n",
    "# preprocess\n",
    "print('Vectorizing and Tokenizing...')\n",
    "analyzer = vectorizer().build_analyzer()\n",
    "def change_word(doc):\n",
    "    return (word_generalization(t) for t in analyzer(doc))\n",
    "vect = vectorizer(analyzer=change_word, tokenizer=tokenizer, min_df=min_df, \n",
    "                        ngram_range=(1,ngram), stop_words=stop_words, \n",
    "                        lowercase=lowercase)\n",
    "X_vect = vect.fit_transform(X)\n",
    "print('Done!')\n"
   ]
  },
  {
   "cell_type": "code",
   "execution_count": 58,
   "metadata": {},
   "outputs": [
    {
     "data": {
      "text/plain": [
       "(223549, 16191)"
      ]
     },
     "execution_count": 58,
     "metadata": {},
     "output_type": "execute_result"
    }
   ],
   "source": [
    "X_vect.shape"
   ]
  },
  {
   "cell_type": "code",
   "execution_count": 59,
   "metadata": {},
   "outputs": [
    {
     "data": {
      "text/plain": [
       "16191"
      ]
     },
     "execution_count": 59,
     "metadata": {},
     "output_type": "execute_result"
    }
   ],
   "source": [
    "len(vect.vocabulary_)\n"
   ]
  },
  {
   "cell_type": "code",
   "execution_count": 60,
   "metadata": {},
   "outputs": [
    {
     "data": {
      "text/plain": [
       "LogisticRegression(max_iter=1500)"
      ]
     },
     "execution_count": 60,
     "metadata": {},
     "output_type": "execute_result"
    }
   ],
   "source": [
    "# Train the model\n",
    "from sklearn.linear_model import LogisticRegression\n",
    "\n",
    "model = LogisticRegression(max_iter=1500)\n",
    "model.fit(X_vect, Y)\n"
   ]
  },
  {
   "cell_type": "code",
   "execution_count": 61,
   "metadata": {},
   "outputs": [
    {
     "name": "stdout",
     "output_type": "stream",
     "text": [
      "Largest Coefs: \n",
      "['motherfucker' 'fuck' 'fucker' 'fucked' 'idiot' 'asshole' 'fucktard'\n",
      " 'faggot' 'nigger' 'cocksucker' 'stupid' 'fuk' 'fucking' 'shit' 'goddamn'\n",
      " 'stupidest' 'nigga' 'bitch' 'dickhead' 'suck' 'bullshit' 'fuckhead'\n",
      " 'bastard' 'cunt' 'masturbate' 'dumbass' 'idiotic' 'douchebag' 'jerk' 'as'\n",
      " 'moron' 'dick' 'cking' 'pussy' 'jackass' 'penis' 'arsehole' 'stupidity'\n",
      " 'arse' 'dumbest' 'slut' 'fuckwit' 'dipshit' 'fagot' 'motherfucking'\n",
      " 'whore' 'vagina' 'fuckin' 'hypocrite' 'shut' 'semen' 'chink' 'ck'\n",
      " 'compounded' 'retard' 'kerry' 'zebedee' 'moronic' 'shove' 'fuc' 'shite'\n",
      " 'stupidly' 'drove' 'shitty' 'wanker' 'dammit' 'foolish' 'crap' 'nipple'\n",
      " 'impersonal' 'retarded' 'masturbating' 'fatty' 'squeeze' 'ybm' 'dame'\n",
      " 'loser' 'damn' 'fagget' 'blowjob' 'tit' 'looser' 'fag' 'nerd' 'scum'\n",
      " 'shithead' 'cock' 'scumbag' 'donkey' 'murdering' 'cum' 'homosexual'\n",
      " 'imbecile' 'absurdity' 'vomit' 'bloody' 'pedophile' 'prostitute' 'kill'\n",
      " 'brainwashing' 'riddance' 'hell' 'teaming' 'pest' 'idiocy' 'unchallenged'\n",
      " 'beth' 'manipulate' 'nutcase' 'sh' 'sarfatti' 'youre' 'homo' 'illiterate'\n",
      " 'lick' 'piss' 'truck' 'graf' 'kike' 'dumb' 'damned' 'rotting' 'buttock'\n",
      " 'digg' 'hahahaha' 'glorious' 'fuckface' 'gita' 'smelly' 'hav' 'disgrace'\n",
      " 'sarcastic' 'lobbying' 'sucker' 'maggot' 'ilk' 'suspend' 'anus' 'dirty'\n",
      " 'garbage' 'disruptively' 'tyrant' 'generating' 'una' 'commandment'\n",
      " 'cowardice' 'boob' 'zion' '1990' 'uck' 'bios' 'aviation' 'impotent'\n",
      " 'openly' 'bitching' 'stfu' 'liar' 'fukin' 'abstain' 'crook' 'facet'\n",
      " 'determination' 'pompous' 'traitor' 'hairy' 'interfering' 'naughty'\n",
      " 'morale' 'samurai' 'biologically' 'goon' 'puke' 'ugly' 'vent'\n",
      " 'compulsive' 'communicating' 'handicap' 'ridiculous' 'slack' 'worded'\n",
      " 'spill' 'sucked' 'siberia' 'filthy' 'butt' 'selfish' 'orgy' 'sex'\n",
      " 'licking' 'freak' 'sought' 'pervert' 'monstrous' 'bureaucracy' 'ante'\n",
      " 'sponsored' 'pig' 'canyon' 'palace' 'abrams' 'suprise' 'venezuelan'\n",
      " 'tramp' 'summarizing' 'reconstructed' 'anal' 'brake' 'ignoramus' 'auspex'\n",
      " 'frustrated' 'uniquely' 'maratha' 'ignorant' 'cursory' 'numeral' 'ml'\n",
      " 'oprah' 'fellowship' 'miserable' 'cockroach' 'travesty' 'boner'\n",
      " 'fictitious' 'shill' 'tiptoety' 'goose' 'patriotism' 'bouncing' 'pile'\n",
      " 'hypocrisy' 'ignorance' 'leno' 'rightly' 'homophobic' 'forbid' 'brick'\n",
      " 'pathetic' 'chatting' 'condom' 'stab' 'apocalypse' 'butthurt' 'wet'\n",
      " 'sickening' 'violator' 'pablo' 'raped' 'penetration' 'slapping'\n",
      " 'vengeance' 'howl' 'obstruction' 'spit' 'soooo' 'screw' 'fool' 'mom'\n",
      " 'remembers' 'obsolete' 'alike' 'punch' 'blush' 'chew' 'enjoys' 'tasmania'\n",
      " 'disgusting' 'bag' 'wikinazi' 'degenerate' 'discriminate' 'cocksucking'\n",
      " 'spout' 'extent' 'colonist' 'yor' 'cultist' 'onion' 'hate' 'applicable'\n",
      " 'gosh' 'negativity' 'nosed' 'nietzsche' 'pump' 'lmfao' 'detrimental'\n",
      " 'delanoy' 'taht' 'slippery' 'pissing' 'smug' 'sounded' 'ohh' 'unorthodox'\n",
      " 'thigh' 'commit' 'mum' 'denialism' 'foolishness']\n"
     ]
    }
   ],
   "source": [
    "# get the feature names as numpy array\n",
    "feature_names = np.array(vect.get_feature_names())\n",
    "\n",
    "# Sort the coefficients from the model (from lowest to highest values)\n",
    "sorted_coef_index = model.coef_[0].argsort()\n",
    "\n",
    "# Find the 10 smallest and 10 largest coefficients\n",
    "# The 10 largest coefficients are being indexed using [:-11:-1]\n",
    "# so the list returned is in order of largest to smallest\n",
    "print(\"Largest Coefs: \\n{}\".format(feature_names[sorted_coef_index[:-300:-1]]))"
   ]
  },
  {
   "cell_type": "code",
   "execution_count": 62,
   "metadata": {},
   "outputs": [],
   "source": [
    "toxic_words_raw = feature_names[sorted_coef_index[:-300:-1]]"
   ]
  },
  {
   "cell_type": "code",
   "execution_count": 63,
   "metadata": {},
   "outputs": [],
   "source": [
    "# how to get index in df with specific word\n",
    "X_array = X_vect.toarray()\n"
   ]
  },
  {
   "cell_type": "code",
   "execution_count": 60,
   "metadata": {},
   "outputs": [
    {
     "data": {
      "text/plain": [
       "(223542, 19098)"
      ]
     },
     "execution_count": 60,
     "metadata": {},
     "output_type": "execute_result"
    }
   ],
   "source": [
    "X_array.shape"
   ]
  },
  {
   "cell_type": "code",
   "execution_count": 61,
   "metadata": {},
   "outputs": [
    {
     "data": {
      "text/html": [
       "<div>\n",
       "<style scoped>\n",
       "    .dataframe tbody tr th:only-of-type {\n",
       "        vertical-align: middle;\n",
       "    }\n",
       "\n",
       "    .dataframe tbody tr th {\n",
       "        vertical-align: top;\n",
       "    }\n",
       "\n",
       "    .dataframe thead th {\n",
       "        text-align: right;\n",
       "    }\n",
       "</style>\n",
       "<table border=\"1\" class=\"dataframe\">\n",
       "  <thead>\n",
       "    <tr style=\"text-align: right;\">\n",
       "      <th></th>\n",
       "      <th>00</th>\n",
       "      <th>001</th>\n",
       "      <th>004</th>\n",
       "      <th>007</th>\n",
       "      <th>01</th>\n",
       "      <th>02</th>\n",
       "      <th>03</th>\n",
       "      <th>04</th>\n",
       "      <th>05</th>\n",
       "      <th>06</th>\n",
       "      <th>...</th>\n",
       "      <th>zone</th>\n",
       "      <th>zoo</th>\n",
       "      <th>zoological</th>\n",
       "      <th>zoom</th>\n",
       "      <th>zora</th>\n",
       "      <th>zoroastrian</th>\n",
       "      <th>zu</th>\n",
       "      <th>zulu</th>\n",
       "      <th>zurich</th>\n",
       "      <th>über</th>\n",
       "    </tr>\n",
       "  </thead>\n",
       "  <tbody>\n",
       "    <tr>\n",
       "      <th>0</th>\n",
       "      <td>0</td>\n",
       "      <td>0</td>\n",
       "      <td>0</td>\n",
       "      <td>0</td>\n",
       "      <td>0</td>\n",
       "      <td>0</td>\n",
       "      <td>0</td>\n",
       "      <td>0</td>\n",
       "      <td>0</td>\n",
       "      <td>0</td>\n",
       "      <td>...</td>\n",
       "      <td>0</td>\n",
       "      <td>0</td>\n",
       "      <td>0</td>\n",
       "      <td>0</td>\n",
       "      <td>0</td>\n",
       "      <td>0</td>\n",
       "      <td>0</td>\n",
       "      <td>0</td>\n",
       "      <td>0</td>\n",
       "      <td>0</td>\n",
       "    </tr>\n",
       "    <tr>\n",
       "      <th>1</th>\n",
       "      <td>0</td>\n",
       "      <td>0</td>\n",
       "      <td>0</td>\n",
       "      <td>0</td>\n",
       "      <td>0</td>\n",
       "      <td>0</td>\n",
       "      <td>0</td>\n",
       "      <td>0</td>\n",
       "      <td>0</td>\n",
       "      <td>0</td>\n",
       "      <td>...</td>\n",
       "      <td>0</td>\n",
       "      <td>0</td>\n",
       "      <td>0</td>\n",
       "      <td>0</td>\n",
       "      <td>0</td>\n",
       "      <td>0</td>\n",
       "      <td>0</td>\n",
       "      <td>0</td>\n",
       "      <td>0</td>\n",
       "      <td>0</td>\n",
       "    </tr>\n",
       "    <tr>\n",
       "      <th>2</th>\n",
       "      <td>0</td>\n",
       "      <td>0</td>\n",
       "      <td>0</td>\n",
       "      <td>0</td>\n",
       "      <td>0</td>\n",
       "      <td>0</td>\n",
       "      <td>0</td>\n",
       "      <td>0</td>\n",
       "      <td>0</td>\n",
       "      <td>0</td>\n",
       "      <td>...</td>\n",
       "      <td>0</td>\n",
       "      <td>0</td>\n",
       "      <td>0</td>\n",
       "      <td>0</td>\n",
       "      <td>0</td>\n",
       "      <td>0</td>\n",
       "      <td>0</td>\n",
       "      <td>0</td>\n",
       "      <td>0</td>\n",
       "      <td>0</td>\n",
       "    </tr>\n",
       "    <tr>\n",
       "      <th>3</th>\n",
       "      <td>0</td>\n",
       "      <td>0</td>\n",
       "      <td>0</td>\n",
       "      <td>0</td>\n",
       "      <td>0</td>\n",
       "      <td>0</td>\n",
       "      <td>0</td>\n",
       "      <td>0</td>\n",
       "      <td>0</td>\n",
       "      <td>0</td>\n",
       "      <td>...</td>\n",
       "      <td>0</td>\n",
       "      <td>0</td>\n",
       "      <td>0</td>\n",
       "      <td>0</td>\n",
       "      <td>0</td>\n",
       "      <td>0</td>\n",
       "      <td>0</td>\n",
       "      <td>0</td>\n",
       "      <td>0</td>\n",
       "      <td>0</td>\n",
       "    </tr>\n",
       "    <tr>\n",
       "      <th>4</th>\n",
       "      <td>0</td>\n",
       "      <td>0</td>\n",
       "      <td>0</td>\n",
       "      <td>0</td>\n",
       "      <td>0</td>\n",
       "      <td>0</td>\n",
       "      <td>0</td>\n",
       "      <td>0</td>\n",
       "      <td>0</td>\n",
       "      <td>0</td>\n",
       "      <td>...</td>\n",
       "      <td>0</td>\n",
       "      <td>0</td>\n",
       "      <td>0</td>\n",
       "      <td>0</td>\n",
       "      <td>0</td>\n",
       "      <td>0</td>\n",
       "      <td>0</td>\n",
       "      <td>0</td>\n",
       "      <td>0</td>\n",
       "      <td>0</td>\n",
       "    </tr>\n",
       "    <tr>\n",
       "      <th>...</th>\n",
       "      <td>...</td>\n",
       "      <td>...</td>\n",
       "      <td>...</td>\n",
       "      <td>...</td>\n",
       "      <td>...</td>\n",
       "      <td>...</td>\n",
       "      <td>...</td>\n",
       "      <td>...</td>\n",
       "      <td>...</td>\n",
       "      <td>...</td>\n",
       "      <td>...</td>\n",
       "      <td>...</td>\n",
       "      <td>...</td>\n",
       "      <td>...</td>\n",
       "      <td>...</td>\n",
       "      <td>...</td>\n",
       "      <td>...</td>\n",
       "      <td>...</td>\n",
       "      <td>...</td>\n",
       "      <td>...</td>\n",
       "      <td>...</td>\n",
       "    </tr>\n",
       "    <tr>\n",
       "      <th>223537</th>\n",
       "      <td>0</td>\n",
       "      <td>0</td>\n",
       "      <td>0</td>\n",
       "      <td>0</td>\n",
       "      <td>0</td>\n",
       "      <td>0</td>\n",
       "      <td>0</td>\n",
       "      <td>0</td>\n",
       "      <td>0</td>\n",
       "      <td>0</td>\n",
       "      <td>...</td>\n",
       "      <td>0</td>\n",
       "      <td>0</td>\n",
       "      <td>0</td>\n",
       "      <td>0</td>\n",
       "      <td>0</td>\n",
       "      <td>0</td>\n",
       "      <td>0</td>\n",
       "      <td>0</td>\n",
       "      <td>0</td>\n",
       "      <td>0</td>\n",
       "    </tr>\n",
       "    <tr>\n",
       "      <th>223538</th>\n",
       "      <td>0</td>\n",
       "      <td>0</td>\n",
       "      <td>0</td>\n",
       "      <td>0</td>\n",
       "      <td>0</td>\n",
       "      <td>0</td>\n",
       "      <td>0</td>\n",
       "      <td>0</td>\n",
       "      <td>0</td>\n",
       "      <td>0</td>\n",
       "      <td>...</td>\n",
       "      <td>0</td>\n",
       "      <td>0</td>\n",
       "      <td>0</td>\n",
       "      <td>0</td>\n",
       "      <td>0</td>\n",
       "      <td>0</td>\n",
       "      <td>0</td>\n",
       "      <td>0</td>\n",
       "      <td>0</td>\n",
       "      <td>0</td>\n",
       "    </tr>\n",
       "    <tr>\n",
       "      <th>223539</th>\n",
       "      <td>0</td>\n",
       "      <td>0</td>\n",
       "      <td>0</td>\n",
       "      <td>0</td>\n",
       "      <td>0</td>\n",
       "      <td>0</td>\n",
       "      <td>0</td>\n",
       "      <td>0</td>\n",
       "      <td>0</td>\n",
       "      <td>0</td>\n",
       "      <td>...</td>\n",
       "      <td>0</td>\n",
       "      <td>0</td>\n",
       "      <td>0</td>\n",
       "      <td>0</td>\n",
       "      <td>0</td>\n",
       "      <td>0</td>\n",
       "      <td>0</td>\n",
       "      <td>0</td>\n",
       "      <td>0</td>\n",
       "      <td>0</td>\n",
       "    </tr>\n",
       "    <tr>\n",
       "      <th>223540</th>\n",
       "      <td>0</td>\n",
       "      <td>0</td>\n",
       "      <td>0</td>\n",
       "      <td>0</td>\n",
       "      <td>0</td>\n",
       "      <td>0</td>\n",
       "      <td>0</td>\n",
       "      <td>0</td>\n",
       "      <td>0</td>\n",
       "      <td>0</td>\n",
       "      <td>...</td>\n",
       "      <td>0</td>\n",
       "      <td>0</td>\n",
       "      <td>0</td>\n",
       "      <td>0</td>\n",
       "      <td>0</td>\n",
       "      <td>0</td>\n",
       "      <td>0</td>\n",
       "      <td>0</td>\n",
       "      <td>0</td>\n",
       "      <td>0</td>\n",
       "    </tr>\n",
       "    <tr>\n",
       "      <th>223541</th>\n",
       "      <td>0</td>\n",
       "      <td>0</td>\n",
       "      <td>0</td>\n",
       "      <td>0</td>\n",
       "      <td>0</td>\n",
       "      <td>0</td>\n",
       "      <td>0</td>\n",
       "      <td>0</td>\n",
       "      <td>0</td>\n",
       "      <td>0</td>\n",
       "      <td>...</td>\n",
       "      <td>0</td>\n",
       "      <td>0</td>\n",
       "      <td>0</td>\n",
       "      <td>0</td>\n",
       "      <td>0</td>\n",
       "      <td>0</td>\n",
       "      <td>0</td>\n",
       "      <td>0</td>\n",
       "      <td>0</td>\n",
       "      <td>0</td>\n",
       "    </tr>\n",
       "  </tbody>\n",
       "</table>\n",
       "<p>223542 rows × 19098 columns</p>\n",
       "</div>"
      ],
      "text/plain": [
       "        00  001  004  007  01  02  03  04  05  06  ...  zone  zoo  zoological  \\\n",
       "0        0    0    0    0   0   0   0   0   0   0  ...     0    0           0   \n",
       "1        0    0    0    0   0   0   0   0   0   0  ...     0    0           0   \n",
       "2        0    0    0    0   0   0   0   0   0   0  ...     0    0           0   \n",
       "3        0    0    0    0   0   0   0   0   0   0  ...     0    0           0   \n",
       "4        0    0    0    0   0   0   0   0   0   0  ...     0    0           0   \n",
       "...     ..  ...  ...  ...  ..  ..  ..  ..  ..  ..  ...   ...  ...         ...   \n",
       "223537   0    0    0    0   0   0   0   0   0   0  ...     0    0           0   \n",
       "223538   0    0    0    0   0   0   0   0   0   0  ...     0    0           0   \n",
       "223539   0    0    0    0   0   0   0   0   0   0  ...     0    0           0   \n",
       "223540   0    0    0    0   0   0   0   0   0   0  ...     0    0           0   \n",
       "223541   0    0    0    0   0   0   0   0   0   0  ...     0    0           0   \n",
       "\n",
       "        zoom  zora  zoroastrian  zu  zulu  zurich  über  \n",
       "0          0     0            0   0     0       0     0  \n",
       "1          0     0            0   0     0       0     0  \n",
       "2          0     0            0   0     0       0     0  \n",
       "3          0     0            0   0     0       0     0  \n",
       "4          0     0            0   0     0       0     0  \n",
       "...      ...   ...          ...  ..   ...     ...   ...  \n",
       "223537     0     0            0   0     0       0     0  \n",
       "223538     0     0            0   0     0       0     0  \n",
       "223539     0     0            0   0     0       0     0  \n",
       "223540     0     0            0   0     0       0     0  \n",
       "223541     0     0            0   0     0       0     0  \n",
       "\n",
       "[223542 rows x 19098 columns]"
      ]
     },
     "execution_count": 61,
     "metadata": {},
     "output_type": "execute_result"
    }
   ],
   "source": [
    "# transpose X_array\n",
    "df_occurrence = pd.DataFrame(data=X_array,columns = X_vect.get_feature_names_out())\n",
    "df_occurrence"
   ]
  },
  {
   "cell_type": "code",
   "execution_count": 36,
   "metadata": {},
   "outputs": [
    {
     "data": {
      "text/plain": [
       "array(['00', '000', '000000', ..., '見学', '迷惑', '連絡'], dtype=object)"
      ]
     },
     "execution_count": 36,
     "metadata": {},
     "output_type": "execute_result"
    }
   ],
   "source": [
    "words_in_corpus = lemm_vectorizer.get_feature_names_out()\n",
    "words_in_corpus"
   ]
  },
  {
   "cell_type": "code",
   "execution_count": 48,
   "metadata": {},
   "outputs": [
    {
     "data": {
      "text/plain": [
       "['bitch',\n",
       " 'fuck',\n",
       " 'shit',\n",
       " 'piss',\n",
       " 'dick',\n",
       " 'motherfucker',\n",
       " 'ass',\n",
       " 'asshole',\n",
       " 'bastard',\n",
       " 'damn',\n",
       " 'cunt',\n",
       " 'faggot',\n",
       " 'slut',\n",
       " 'whore']"
      ]
     },
     "execution_count": 48,
     "metadata": {},
     "output_type": "execute_result"
    }
   ],
   "source": [
    "#toxic_words = toxic_words[[curse_word in words_in_corpus for curse_word in toxic_words]]\n",
    "toxic_words = ['bitch', 'fuck', 'shit', 'piss', 'dick', 'motherfucker', 'ass', \n",
    "'asshole', 'bastard', 'damn', 'cunt', 'faggot', 'slut', 'whore']\n",
    "# not in: 'meathead','douche-bag'\n",
    "#toxic_words[\n",
    "\n",
    "toxic_index = [i for i, curse_word in enumerate(toxic_words) if curse_word in words_in_corpus]\n",
    "toxic_words = [toxic_words[i] for i in toxic_index]\n",
    "toxic_words"
   ]
  },
  {
   "cell_type": "code",
   "execution_count": 63,
   "metadata": {},
   "outputs": [
    {
     "data": {
      "text/plain": [
       "[True,\n",
       " True,\n",
       " True,\n",
       " True,\n",
       " True,\n",
       " True,\n",
       " True,\n",
       " True,\n",
       " True,\n",
       " True,\n",
       " True,\n",
       " True,\n",
       " True,\n",
       " True]"
      ]
     },
     "execution_count": 63,
     "metadata": {},
     "output_type": "execute_result"
    }
   ],
   "source": [
    "# check if toxic words are in \n",
    "[curse_word in words_in_corpus for curse_word in toxic_words]"
   ]
  },
  {
   "cell_type": "code",
   "execution_count": 65,
   "metadata": {},
   "outputs": [
    {
     "data": {
      "text/plain": [
       "0         0\n",
       "1         0\n",
       "2         0\n",
       "3         0\n",
       "4         0\n",
       "         ..\n",
       "223537    0\n",
       "223538    0\n",
       "223539    0\n",
       "223540    1\n",
       "223541    0\n",
       "Length: 223542, dtype: int64"
      ]
     },
     "execution_count": 65,
     "metadata": {},
     "output_type": "execute_result"
    }
   ],
   "source": [
    "df_occurrence['bitch'] + df_occurrence['slut'] "
   ]
  },
  {
   "cell_type": "code",
   "execution_count": 67,
   "metadata": {},
   "outputs": [],
   "source": [
    "index_toxic = sum(df_occurrence[insult] for insult in toxic_words) > 0"
   ]
  },
  {
   "cell_type": "code",
   "execution_count": 68,
   "metadata": {},
   "outputs": [],
   "source": [
    "df['toxic_baseline'] = index_toxic"
   ]
  },
  {
   "cell_type": "code",
   "execution_count": 69,
   "metadata": {},
   "outputs": [
    {
     "data": {
      "text/plain": [
       "Index(['id', 'comment_text', 'toxic', 'severe_toxic', 'obscene', 'threat',\n",
       "       'insult', 'identity_hate', 'toxic_baseline'],\n",
       "      dtype='object')"
      ]
     },
     "execution_count": 69,
     "metadata": {},
     "output_type": "execute_result"
    }
   ],
   "source": [
    "df.columns"
   ]
  },
  {
   "cell_type": "code",
   "execution_count": 71,
   "metadata": {},
   "outputs": [],
   "source": [
    "import matplotlib.pyplot as plt\n",
    "# important functions\n",
    "def plot_confusion_matrix(cm, classes,\n",
    "                          normalize=False,\n",
    "                          title='Confusion matrix',\n",
    "                          cmap=plt.cm.Oranges):\n",
    "    \"\"\"\n",
    "    This function prints and plots the confusion matrix.\n",
    "    Normalization can be applied by setting `normalize=True`.\n",
    "    Source: http://scikit-learn.org/stable/auto_examples/model_selection/plot_confusion_matrix.html\n",
    "    \"\"\"\n",
    "    if normalize:\n",
    "        cm = cm.astype('float') / cm.sum(axis=1)[:, np.newaxis]\n",
    "        print(\"Normalized confusion matrix\")\n",
    "    else:\n",
    "        print('Confusion matrix, without normalization')\n",
    "\n",
    "    print(cm)\n",
    "\n",
    "    # Plot the confusion matrix\n",
    "    plt.figure(figsize = (10, 10))\n",
    "    plt.imshow(cm, interpolation='nearest', cmap=cmap)\n",
    "    plt.title(title, size = 24)\n",
    "    plt.colorbar(aspect=4)\n",
    "    tick_marks = np.arange(len(classes))\n",
    "    plt.xticks(tick_marks, classes, rotation=45, size = 14)\n",
    "    plt.yticks(tick_marks, classes, size = 14)\n",
    "\n",
    "    fmt = '.2f' if normalize else 'd'\n",
    "    thresh = cm.max() / 2.\n",
    "    \n",
    "    # Labeling the plot\n",
    "    for i, j in itertools.product(range(cm.shape[0]), range(cm.shape[1])):\n",
    "        plt.text(j, i, format(cm[i, j], fmt), fontsize = 20,\n",
    "                 horizontalalignment=\"center\",\n",
    "                 color=\"white\" if cm[i, j] > thresh else \"black\")\n",
    "        \n",
    "    plt.grid(None)\n",
    "    plt.tight_layout()\n",
    "    plt.ylabel('True label', size = 18)\n",
    "    plt.xlabel('Predicted label', size = 18)\n",
    "\n",
    "def print_evaluations(y,predictions):\n",
    "    print(f\"Accuracy: {accuracy_score(y, predictions)}\")\n",
    "    print(f\"Precision: {precision_score(y, predictions)}\")\n",
    "    print(f\"Recall: {recall_score(y, predictions)}\")\n",
    "    print(f\"F1: {f1_score(y, predictions)}\")"
   ]
  },
  {
   "cell_type": "code",
   "execution_count": 75,
   "metadata": {},
   "outputs": [
    {
     "name": "stdout",
     "output_type": "stream",
     "text": [
      "Accuracy: 0.927530396972381\n",
      "Precision: 0.7485615650172612\n",
      "Recall: 0.36503928170594835\n",
      "F1: 0.4907582044511504\n"
     ]
    }
   ],
   "source": [
    "print_evaluations(df['toxic'],df['toxic_baseline'])"
   ]
  },
  {
   "cell_type": "code",
   "execution_count": 77,
   "metadata": {},
   "outputs": [
    {
     "name": "stdout",
     "output_type": "stream",
     "text": [
      "Confusion matrix, without normalization\n",
      "[[199536   2622]\n",
      " [ 13578   7806]]\n"
     ]
    },
    {
     "data": {
      "image/png": "[encoded data removed]",
      "text/plain": [
       "<Figure size 720x720 with 2 Axes>"
      ]
     },
     "metadata": {
      "needs_background": "light"
     },
     "output_type": "display_data"
    }
   ],
   "source": [
    "from sklearn.metrics import confusion_matrix\n",
    "import itertools\n",
    "\n",
    "cm = confusion_matrix(df['toxic'],df['toxic_baseline'])\n",
    "\n",
    "plot_confusion_matrix(cm, classes = ['Toxic', 'Not Toxic'],\n",
    "                      title = 'Toxic Confusion Matrix')"
   ]
  },
  {
   "cell_type": "code",
   "execution_count": 49,
   "metadata": {},
   "outputs": [
    {
     "name": "stderr",
     "output_type": "stream",
     "text": [
      "[nltk_data] Downloading package wordnet to /Users/kw/nltk_data...\n",
      "[nltk_data]   Package wordnet is already up-to-date!\n",
      "[nltk_data] Downloading package omw-1.4 to /Users/kw/nltk_data...\n",
      "[nltk_data]   Package omw-1.4 is already up-to-date!\n"
     ]
    }
   ],
   "source": [
    "#%%\n",
    "from sklearn.metrics import roc_auc_score\n",
    "import pandas as pd\n",
    "import numpy as np\n",
    "# Initialization\n",
    "import nltk \n",
    "nltk.download('wordnet')\n",
    "nltk.download('omw-1.4')\n",
    "from sklearn.feature_extraction.text import CountVectorizer\n",
    "from sklearn.linear_model import LogisticRegression\n",
    "\n",
    "import mlflow\n",
    "WNlemma = nltk.WordNetLemmatizer()\n",
    "\n",
    "\n",
    "def __get_data():\n",
    "    #logger.info(\"Getting the data\")\n",
    "    #########################################\n",
    "    # import data\n",
    "    #########################################\n",
    "    DATA_NAME = 'train_wikipedia_pre_clean'\n",
    "    train = pd.read_csv(\"../data/\" + DATA_NAME + \".csv\")\n",
    "\n",
    "    # cleaning data and preparing\n",
    "    Y = train[\"toxic\"][:100000]\n",
    "    X = train[\"comment_text\"][:100000]\n",
    "    return X,Y, DATA_NAME\n",
    "\n",
    "\n",
    "\n",
    "X, Y,DATA_NAME = __get_data()\n",
    "\n",
    "\n",
    "\n",
    "\n",
    "\n",
    "analyzer = CountVectorizer().build_analyzer()\n",
    "def lemmatize_word(doc):\n",
    "    return (WNlemma.lemmatize(t) for t in analyzer(doc))\n",
    "\n",
    "lemm_vectorizer = CountVectorizer(min_df=15, analyzer=lemmatize_word)\n",
    "X_vect = lemm_vectorizer.fit_transform(X)\n",
    "lenvoc =  len(lemm_vectorizer.vocabulary_)\n",
    "\n",
    "\n",
    "# get toxic words\n",
    "\n",
    "model = LogisticRegression(max_iter=1500)\n",
    "model.fit(X_vect, Y)\n",
    "# get the feature names as numpy array\n",
    "feature_names = np.array(lemm_vectorizer.get_feature_names_out())\n",
    "# Sort the coefficients from the model (from lowest to highest values)\n",
    "sorted_coef_index = model.coef_[0].argsort()\n",
    "toxic_words_raw = feature_names[sorted_coef_index[:-300:-1]]\n"
   ]
  },
  {
   "cell_type": "code",
   "execution_count": 53,
   "metadata": {},
   "outputs": [],
   "source": []
  },
  {
   "cell_type": "code",
   "execution_count": 49,
   "metadata": {},
   "outputs": [
    {
     "ename": "NameError",
     "evalue": "name 'lemm_vectorizer' is not defined",
     "output_type": "error",
     "traceback": [
      "\u001b[0;31m---------------------------------------------------------------------------\u001b[0m",
      "\u001b[0;31mNameError\u001b[0m                                 Traceback (most recent call last)",
      "\u001b[1;32m/Users/kw/neuefische/detoxifying-my-social-media/notebooks/baselinemodel.ipynb Cell 36'\u001b[0m in \u001b[0;36m<cell line: 2>\u001b[0;34m()\u001b[0m\n\u001b[1;32m      <a href='vscode-notebook-cell:/Users/kw/neuefische/detoxifying-my-social-media/notebooks/baselinemodel.ipynb#ch0000034?line=0'>1</a>\u001b[0m X_array \u001b[39m=\u001b[39m X_vect\u001b[39m.\u001b[39mtoarray()\n\u001b[0;32m----> <a href='vscode-notebook-cell:/Users/kw/neuefische/detoxifying-my-social-media/notebooks/baselinemodel.ipynb#ch0000034?line=1'>2</a>\u001b[0m df_occurrence \u001b[39m=\u001b[39m pd\u001b[39m.\u001b[39mDataFrame(data\u001b[39m=\u001b[39mX_array,columns \u001b[39m=\u001b[39m lemm_vectorizer\u001b[39m.\u001b[39mget_feature_names_out())\n\u001b[1;32m      <a href='vscode-notebook-cell:/Users/kw/neuefische/detoxifying-my-social-media/notebooks/baselinemodel.ipynb#ch0000034?line=3'>4</a>\u001b[0m \u001b[39m#words_in_corpus = lemm_vectorizer.get_feature_names_out()\u001b[39;00m\n\u001b[1;32m      <a href='vscode-notebook-cell:/Users/kw/neuefische/detoxifying-my-social-media/notebooks/baselinemodel.ipynb#ch0000034?line=4'>5</a>\u001b[0m \u001b[39m## only keep those words that are in corpus\u001b[39;00m\n\u001b[1;32m      <a href='vscode-notebook-cell:/Users/kw/neuefische/detoxifying-my-social-media/notebooks/baselinemodel.ipynb#ch0000034?line=5'>6</a>\u001b[0m \u001b[39m#toxic_index = [i for i, curse_word in enumerate(toxic_words) if curse_word in words_in_corpus]\u001b[39;00m\n\u001b[1;32m      <a href='vscode-notebook-cell:/Users/kw/neuefische/detoxifying-my-social-media/notebooks/baselinemodel.ipynb#ch0000034?line=6'>7</a>\u001b[0m \u001b[39m#toxic_words = [toxic_words[i] for i in toxic_index]\u001b[39;00m\n\u001b[1;32m      <a href='vscode-notebook-cell:/Users/kw/neuefische/detoxifying-my-social-media/notebooks/baselinemodel.ipynb#ch0000034?line=7'>8</a>\u001b[0m \n\u001b[1;32m      <a href='vscode-notebook-cell:/Users/kw/neuefische/detoxifying-my-social-media/notebooks/baselinemodel.ipynb#ch0000034?line=8'>9</a>\u001b[0m \u001b[39m#logger.info('Calculating Score')\u001b[39;00m\n\u001b[1;32m     <a href='vscode-notebook-cell:/Users/kw/neuefische/detoxifying-my-social-media/notebooks/baselinemodel.ipynb#ch0000034?line=9'>10</a>\u001b[0m pred \u001b[39m=\u001b[39m \u001b[39msum\u001b[39m(df_occurrence[insult] \u001b[39mfor\u001b[39;00m insult \u001b[39min\u001b[39;00m toxic_words_raw) \u001b[39m>\u001b[39m \u001b[39m0\u001b[39m\n",
      "\u001b[0;31mNameError\u001b[0m: name 'lemm_vectorizer' is not defined"
     ]
    }
   ],
   "source": [
    "\n",
    "X_array = X_vect.toarray()\n",
    "df_occurrence = pd.DataFrame(data=X_array,columns = lemm_vectorizer.get_feature_names_out())\n",
    "    \n",
    "#words_in_corpus = lemm_vectorizer.get_feature_names_out()\n",
    "## only keep those words that are in corpus\n",
    "#toxic_index = [i for i, curse_word in enumerate(toxic_words) if curse_word in words_in_corpus]\n",
    "#toxic_words = [toxic_words[i] for i in toxic_index]\n",
    "\n",
    "#logger.info('Calculating Score')\n",
    "pred = sum(df_occurrence[insult] for insult in toxic_words_raw) > 0\n",
    "eval = roc_auc_score(Y, pred)\n",
    "\n",
    "\n",
    "\n",
    "\n"
   ]
  },
  {
   "cell_type": "code",
   "execution_count": 48,
   "metadata": {},
   "outputs": [
    {
     "ename": "NameError",
     "evalue": "name 'pred' is not defined",
     "output_type": "error",
     "traceback": [
      "\u001b[0;31m---------------------------------------------------------------------------\u001b[0m",
      "\u001b[0;31mNameError\u001b[0m                                 Traceback (most recent call last)",
      "\u001b[1;32m/Users/kw/neuefische/detoxifying-my-social-media/notebooks/baselinemodel.ipynb Cell 37'\u001b[0m in \u001b[0;36m<cell line: 1>\u001b[0;34m()\u001b[0m\n\u001b[0;32m----> <a href='vscode-notebook-cell:/Users/kw/neuefische/detoxifying-my-social-media/notebooks/baselinemodel.ipynb#ch0000035?line=0'>1</a>\u001b[0m df[\u001b[39m'\u001b[39m\u001b[39mpred\u001b[39m\u001b[39m'\u001b[39m] \u001b[39m=\u001b[39m pred\n",
      "\u001b[0;31mNameError\u001b[0m: name 'pred' is not defined"
     ]
    }
   ],
   "source": [
    "df['pred'] = pred"
   ]
  },
  {
   "cell_type": "code",
   "execution_count": 60,
   "metadata": {},
   "outputs": [
    {
     "ename": "ValueError",
     "evalue": "The truth value of a Series is ambiguous. Use a.empty, a.bool(), a.item(), a.any() or a.all().",
     "output_type": "error",
     "traceback": [
      "\u001b[0;31m---------------------------------------------------------------------------\u001b[0m",
      "\u001b[0;31mValueError\u001b[0m                                Traceback (most recent call last)",
      "\u001b[1;32m/Users/kw/neuefische/detoxifying-my-social-media/notebooks/baselinemodel.ipynb Cell 37'\u001b[0m in \u001b[0;36m<cell line: 1>\u001b[0;34m()\u001b[0m\n\u001b[0;32m----> <a href='vscode-notebook-cell:/Users/kw/neuefische/detoxifying-my-social-media/notebooks/baselinemodel.ipynb#ch0000041?line=0'>1</a>\u001b[0m df[\u001b[39m'\u001b[39m\u001b[39mpred\u001b[39m\u001b[39m'\u001b[39m] \u001b[39m==\u001b[39m \u001b[39m1\u001b[39m \u001b[39m&\u001b[39m df[\u001b[39m'\u001b[39m\u001b[39mtoxic\u001b[39m\u001b[39m'\u001b[39m] \u001b[39m==\u001b[39m \u001b[39m0\u001b[39m\n",
      "File \u001b[0;32m~/neuefische/detoxifying-my-social-media/.venv/lib/python3.9/site-packages/pandas/core/generic.py:1527\u001b[0m, in \u001b[0;36mNDFrame.__nonzero__\u001b[0;34m(self)\u001b[0m\n\u001b[1;32m   <a href='file:///Users/kw/neuefische/detoxifying-my-social-media/.venv/lib/python3.9/site-packages/pandas/core/generic.py?line=1524'>1525</a>\u001b[0m \u001b[39m@final\u001b[39m\n\u001b[1;32m   <a href='file:///Users/kw/neuefische/detoxifying-my-social-media/.venv/lib/python3.9/site-packages/pandas/core/generic.py?line=1525'>1526</a>\u001b[0m \u001b[39mdef\u001b[39;00m \u001b[39m__nonzero__\u001b[39m(\u001b[39mself\u001b[39m):\n\u001b[0;32m-> <a href='file:///Users/kw/neuefische/detoxifying-my-social-media/.venv/lib/python3.9/site-packages/pandas/core/generic.py?line=1526'>1527</a>\u001b[0m     \u001b[39mraise\u001b[39;00m \u001b[39mValueError\u001b[39;00m(\n\u001b[1;32m   <a href='file:///Users/kw/neuefische/detoxifying-my-social-media/.venv/lib/python3.9/site-packages/pandas/core/generic.py?line=1527'>1528</a>\u001b[0m         \u001b[39mf\u001b[39m\u001b[39m\"\u001b[39m\u001b[39mThe truth value of a \u001b[39m\u001b[39m{\u001b[39;00m\u001b[39mtype\u001b[39m(\u001b[39mself\u001b[39m)\u001b[39m.\u001b[39m\u001b[39m__name__\u001b[39m\u001b[39m}\u001b[39;00m\u001b[39m is ambiguous. \u001b[39m\u001b[39m\"\u001b[39m\n\u001b[1;32m   <a href='file:///Users/kw/neuefische/detoxifying-my-social-media/.venv/lib/python3.9/site-packages/pandas/core/generic.py?line=1528'>1529</a>\u001b[0m         \u001b[39m\"\u001b[39m\u001b[39mUse a.empty, a.bool(), a.item(), a.any() or a.all().\u001b[39m\u001b[39m\"\u001b[39m\n\u001b[1;32m   <a href='file:///Users/kw/neuefische/detoxifying-my-social-media/.venv/lib/python3.9/site-packages/pandas/core/generic.py?line=1529'>1530</a>\u001b[0m     )\n",
      "\u001b[0;31mValueError\u001b[0m: The truth value of a Series is ambiguous. Use a.empty, a.bool(), a.item(), a.any() or a.all()."
     ]
    }
   ],
   "source": [
    "df['pred'] == 1 & df['toxic'] == 0"
   ]
  },
  {
   "cell_type": "code",
   "execution_count": 47,
   "metadata": {},
   "outputs": [
    {
     "ename": "UndefinedVariableError",
     "evalue": "name 'pred' is not defined",
     "output_type": "error",
     "traceback": [
      "\u001b[0;31m---------------------------------------------------------------------------\u001b[0m",
      "\u001b[0;31mKeyError\u001b[0m                                  Traceback (most recent call last)",
      "File \u001b[0;32m~/neuefische/detoxifying-my-social-media/.venv/lib/python3.9/site-packages/pandas/core/computation/scope.py:195\u001b[0m, in \u001b[0;36mScope.resolve\u001b[0;34m(self, key, is_local)\u001b[0m\n\u001b[1;32m    <a href='file:///Users/kw/neuefische/detoxifying-my-social-media/.venv/lib/python3.9/site-packages/pandas/core/computation/scope.py?line=193'>194</a>\u001b[0m \u001b[39mif\u001b[39;00m \u001b[39mself\u001b[39m\u001b[39m.\u001b[39mhas_resolvers:\n\u001b[0;32m--> <a href='file:///Users/kw/neuefische/detoxifying-my-social-media/.venv/lib/python3.9/site-packages/pandas/core/computation/scope.py?line=194'>195</a>\u001b[0m     \u001b[39mreturn\u001b[39;00m \u001b[39mself\u001b[39;49m\u001b[39m.\u001b[39;49mresolvers[key]\n\u001b[1;32m    <a href='file:///Users/kw/neuefische/detoxifying-my-social-media/.venv/lib/python3.9/site-packages/pandas/core/computation/scope.py?line=196'>197</a>\u001b[0m \u001b[39m# if we're here that means that we have no locals and we also have\u001b[39;00m\n\u001b[1;32m    <a href='file:///Users/kw/neuefische/detoxifying-my-social-media/.venv/lib/python3.9/site-packages/pandas/core/computation/scope.py?line=197'>198</a>\u001b[0m \u001b[39m# no resolvers\u001b[39;00m\n",
      "File \u001b[0;32m~/.pyenv/versions/3.9.8/lib/python3.9/collections/__init__.py:941\u001b[0m, in \u001b[0;36mChainMap.__getitem__\u001b[0;34m(self, key)\u001b[0m\n\u001b[1;32m    <a href='file:///Users/kw/.pyenv/versions/3.9.8/lib/python3.9/collections/__init__.py?line=939'>940</a>\u001b[0m         \u001b[39mpass\u001b[39;00m\n\u001b[0;32m--> <a href='file:///Users/kw/.pyenv/versions/3.9.8/lib/python3.9/collections/__init__.py?line=940'>941</a>\u001b[0m \u001b[39mreturn\u001b[39;00m \u001b[39mself\u001b[39;49m\u001b[39m.\u001b[39;49m\u001b[39m__missing__\u001b[39;49m(key)\n",
      "File \u001b[0;32m~/.pyenv/versions/3.9.8/lib/python3.9/collections/__init__.py:933\u001b[0m, in \u001b[0;36mChainMap.__missing__\u001b[0;34m(self, key)\u001b[0m\n\u001b[1;32m    <a href='file:///Users/kw/.pyenv/versions/3.9.8/lib/python3.9/collections/__init__.py?line=931'>932</a>\u001b[0m \u001b[39mdef\u001b[39;00m \u001b[39m__missing__\u001b[39m(\u001b[39mself\u001b[39m, key):\n\u001b[0;32m--> <a href='file:///Users/kw/.pyenv/versions/3.9.8/lib/python3.9/collections/__init__.py?line=932'>933</a>\u001b[0m     \u001b[39mraise\u001b[39;00m \u001b[39mKeyError\u001b[39;00m(key)\n",
      "\u001b[0;31mKeyError\u001b[0m: 'pred'",
      "\nDuring handling of the above exception, another exception occurred:\n",
      "\u001b[0;31mKeyError\u001b[0m                                  Traceback (most recent call last)",
      "File \u001b[0;32m~/neuefische/detoxifying-my-social-media/.venv/lib/python3.9/site-packages/pandas/core/computation/scope.py:206\u001b[0m, in \u001b[0;36mScope.resolve\u001b[0;34m(self, key, is_local)\u001b[0m\n\u001b[1;32m    <a href='file:///Users/kw/neuefische/detoxifying-my-social-media/.venv/lib/python3.9/site-packages/pandas/core/computation/scope.py?line=201'>202</a>\u001b[0m \u001b[39mtry\u001b[39;00m:\n\u001b[1;32m    <a href='file:///Users/kw/neuefische/detoxifying-my-social-media/.venv/lib/python3.9/site-packages/pandas/core/computation/scope.py?line=202'>203</a>\u001b[0m     \u001b[39m# last ditch effort we look in temporaries\u001b[39;00m\n\u001b[1;32m    <a href='file:///Users/kw/neuefische/detoxifying-my-social-media/.venv/lib/python3.9/site-packages/pandas/core/computation/scope.py?line=203'>204</a>\u001b[0m     \u001b[39m# these are created when parsing indexing expressions\u001b[39;00m\n\u001b[1;32m    <a href='file:///Users/kw/neuefische/detoxifying-my-social-media/.venv/lib/python3.9/site-packages/pandas/core/computation/scope.py?line=204'>205</a>\u001b[0m     \u001b[39m# e.g., df[df > 0]\u001b[39;00m\n\u001b[0;32m--> <a href='file:///Users/kw/neuefische/detoxifying-my-social-media/.venv/lib/python3.9/site-packages/pandas/core/computation/scope.py?line=205'>206</a>\u001b[0m     \u001b[39mreturn\u001b[39;00m \u001b[39mself\u001b[39;49m\u001b[39m.\u001b[39;49mtemps[key]\n\u001b[1;32m    <a href='file:///Users/kw/neuefische/detoxifying-my-social-media/.venv/lib/python3.9/site-packages/pandas/core/computation/scope.py?line=206'>207</a>\u001b[0m \u001b[39mexcept\u001b[39;00m \u001b[39mKeyError\u001b[39;00m \u001b[39mas\u001b[39;00m err:\n\u001b[1;32m    <a href='file:///Users/kw/neuefische/detoxifying-my-social-media/.venv/lib/python3.9/site-packages/pandas/core/computation/scope.py?line=207'>208</a>\u001b[0m     \u001b[39m# runtime import because ops imports from scope\u001b[39;00m\n",
      "\u001b[0;31mKeyError\u001b[0m: 'pred'",
      "\nThe above exception was the direct cause of the following exception:\n",
      "\u001b[0;31mUndefinedVariableError\u001b[0m                    Traceback (most recent call last)",
      "\u001b[1;32m/Users/kw/neuefische/detoxifying-my-social-media/notebooks/baselinemodel.ipynb Cell 39'\u001b[0m in \u001b[0;36m<cell line: 2>\u001b[0;34m()\u001b[0m\n\u001b[1;32m      <a href='vscode-notebook-cell:/Users/kw/neuefische/detoxifying-my-social-media/notebooks/baselinemodel.ipynb#ch0000037?line=0'>1</a>\u001b[0m \u001b[39m#falsealarm_baseline = \u001b[39;00m\n\u001b[0;32m----> <a href='vscode-notebook-cell:/Users/kw/neuefische/detoxifying-my-social-media/notebooks/baselinemodel.ipynb#ch0000037?line=1'>2</a>\u001b[0m df\u001b[39m.\u001b[39;49mquery(\u001b[39m\"\u001b[39;49m\u001b[39mpred or toxic\u001b[39;49m\u001b[39m\"\u001b[39;49m)\n",
      "File \u001b[0;32m~/neuefische/detoxifying-my-social-media/.venv/lib/python3.9/site-packages/pandas/core/frame.py:4111\u001b[0m, in \u001b[0;36mDataFrame.query\u001b[0;34m(self, expr, inplace, **kwargs)\u001b[0m\n\u001b[1;32m   <a href='file:///Users/kw/neuefische/detoxifying-my-social-media/.venv/lib/python3.9/site-packages/pandas/core/frame.py?line=4108'>4109</a>\u001b[0m kwargs[\u001b[39m\"\u001b[39m\u001b[39mlevel\u001b[39m\u001b[39m\"\u001b[39m] \u001b[39m=\u001b[39m kwargs\u001b[39m.\u001b[39mpop(\u001b[39m\"\u001b[39m\u001b[39mlevel\u001b[39m\u001b[39m\"\u001b[39m, \u001b[39m0\u001b[39m) \u001b[39m+\u001b[39m \u001b[39m1\u001b[39m\n\u001b[1;32m   <a href='file:///Users/kw/neuefische/detoxifying-my-social-media/.venv/lib/python3.9/site-packages/pandas/core/frame.py?line=4109'>4110</a>\u001b[0m kwargs[\u001b[39m\"\u001b[39m\u001b[39mtarget\u001b[39m\u001b[39m\"\u001b[39m] \u001b[39m=\u001b[39m \u001b[39mNone\u001b[39;00m\n\u001b[0;32m-> <a href='file:///Users/kw/neuefische/detoxifying-my-social-media/.venv/lib/python3.9/site-packages/pandas/core/frame.py?line=4110'>4111</a>\u001b[0m res \u001b[39m=\u001b[39m \u001b[39mself\u001b[39;49m\u001b[39m.\u001b[39;49meval(expr, \u001b[39m*\u001b[39;49m\u001b[39m*\u001b[39;49mkwargs)\n\u001b[1;32m   <a href='file:///Users/kw/neuefische/detoxifying-my-social-media/.venv/lib/python3.9/site-packages/pandas/core/frame.py?line=4112'>4113</a>\u001b[0m \u001b[39mtry\u001b[39;00m:\n\u001b[1;32m   <a href='file:///Users/kw/neuefische/detoxifying-my-social-media/.venv/lib/python3.9/site-packages/pandas/core/frame.py?line=4113'>4114</a>\u001b[0m     result \u001b[39m=\u001b[39m \u001b[39mself\u001b[39m\u001b[39m.\u001b[39mloc[res]\n",
      "File \u001b[0;32m~/neuefische/detoxifying-my-social-media/.venv/lib/python3.9/site-packages/pandas/core/frame.py:4240\u001b[0m, in \u001b[0;36mDataFrame.eval\u001b[0;34m(self, expr, inplace, **kwargs)\u001b[0m\n\u001b[1;32m   <a href='file:///Users/kw/neuefische/detoxifying-my-social-media/.venv/lib/python3.9/site-packages/pandas/core/frame.py?line=4236'>4237</a>\u001b[0m     kwargs[\u001b[39m\"\u001b[39m\u001b[39mtarget\u001b[39m\u001b[39m\"\u001b[39m] \u001b[39m=\u001b[39m \u001b[39mself\u001b[39m\n\u001b[1;32m   <a href='file:///Users/kw/neuefische/detoxifying-my-social-media/.venv/lib/python3.9/site-packages/pandas/core/frame.py?line=4237'>4238</a>\u001b[0m kwargs[\u001b[39m\"\u001b[39m\u001b[39mresolvers\u001b[39m\u001b[39m\"\u001b[39m] \u001b[39m=\u001b[39m \u001b[39mtuple\u001b[39m(kwargs\u001b[39m.\u001b[39mget(\u001b[39m\"\u001b[39m\u001b[39mresolvers\u001b[39m\u001b[39m\"\u001b[39m, ())) \u001b[39m+\u001b[39m resolvers\n\u001b[0;32m-> <a href='file:///Users/kw/neuefische/detoxifying-my-social-media/.venv/lib/python3.9/site-packages/pandas/core/frame.py?line=4239'>4240</a>\u001b[0m \u001b[39mreturn\u001b[39;00m _eval(expr, inplace\u001b[39m=\u001b[39;49minplace, \u001b[39m*\u001b[39;49m\u001b[39m*\u001b[39;49mkwargs)\n",
      "File \u001b[0;32m~/neuefische/detoxifying-my-social-media/.venv/lib/python3.9/site-packages/pandas/core/computation/eval.py:350\u001b[0m, in \u001b[0;36meval\u001b[0;34m(expr, parser, engine, truediv, local_dict, global_dict, resolvers, level, target, inplace)\u001b[0m\n\u001b[1;32m    <a href='file:///Users/kw/neuefische/detoxifying-my-social-media/.venv/lib/python3.9/site-packages/pandas/core/computation/eval.py?line=340'>341</a>\u001b[0m \u001b[39m# get our (possibly passed-in) scope\u001b[39;00m\n\u001b[1;32m    <a href='file:///Users/kw/neuefische/detoxifying-my-social-media/.venv/lib/python3.9/site-packages/pandas/core/computation/eval.py?line=341'>342</a>\u001b[0m env \u001b[39m=\u001b[39m ensure_scope(\n\u001b[1;32m    <a href='file:///Users/kw/neuefische/detoxifying-my-social-media/.venv/lib/python3.9/site-packages/pandas/core/computation/eval.py?line=342'>343</a>\u001b[0m     level \u001b[39m+\u001b[39m \u001b[39m1\u001b[39m,\n\u001b[1;32m    <a href='file:///Users/kw/neuefische/detoxifying-my-social-media/.venv/lib/python3.9/site-packages/pandas/core/computation/eval.py?line=343'>344</a>\u001b[0m     global_dict\u001b[39m=\u001b[39mglobal_dict,\n\u001b[0;32m   (...)\u001b[0m\n\u001b[1;32m    <a href='file:///Users/kw/neuefische/detoxifying-my-social-media/.venv/lib/python3.9/site-packages/pandas/core/computation/eval.py?line=346'>347</a>\u001b[0m     target\u001b[39m=\u001b[39mtarget,\n\u001b[1;32m    <a href='file:///Users/kw/neuefische/detoxifying-my-social-media/.venv/lib/python3.9/site-packages/pandas/core/computation/eval.py?line=347'>348</a>\u001b[0m )\n\u001b[0;32m--> <a href='file:///Users/kw/neuefische/detoxifying-my-social-media/.venv/lib/python3.9/site-packages/pandas/core/computation/eval.py?line=349'>350</a>\u001b[0m parsed_expr \u001b[39m=\u001b[39m Expr(expr, engine\u001b[39m=\u001b[39;49mengine, parser\u001b[39m=\u001b[39;49mparser, env\u001b[39m=\u001b[39;49menv)\n\u001b[1;32m    <a href='file:///Users/kw/neuefische/detoxifying-my-social-media/.venv/lib/python3.9/site-packages/pandas/core/computation/eval.py?line=351'>352</a>\u001b[0m \u001b[39m# construct the engine and evaluate the parsed expression\u001b[39;00m\n\u001b[1;32m    <a href='file:///Users/kw/neuefische/detoxifying-my-social-media/.venv/lib/python3.9/site-packages/pandas/core/computation/eval.py?line=352'>353</a>\u001b[0m eng \u001b[39m=\u001b[39m ENGINES[engine]\n",
      "File \u001b[0;32m~/neuefische/detoxifying-my-social-media/.venv/lib/python3.9/site-packages/pandas/core/computation/expr.py:811\u001b[0m, in \u001b[0;36mExpr.__init__\u001b[0;34m(self, expr, engine, parser, env, level)\u001b[0m\n\u001b[1;32m    <a href='file:///Users/kw/neuefische/detoxifying-my-social-media/.venv/lib/python3.9/site-packages/pandas/core/computation/expr.py?line=808'>809</a>\u001b[0m \u001b[39mself\u001b[39m\u001b[39m.\u001b[39mparser \u001b[39m=\u001b[39m parser\n\u001b[1;32m    <a href='file:///Users/kw/neuefische/detoxifying-my-social-media/.venv/lib/python3.9/site-packages/pandas/core/computation/expr.py?line=809'>810</a>\u001b[0m \u001b[39mself\u001b[39m\u001b[39m.\u001b[39m_visitor \u001b[39m=\u001b[39m PARSERS[parser](\u001b[39mself\u001b[39m\u001b[39m.\u001b[39menv, \u001b[39mself\u001b[39m\u001b[39m.\u001b[39mengine, \u001b[39mself\u001b[39m\u001b[39m.\u001b[39mparser)\n\u001b[0;32m--> <a href='file:///Users/kw/neuefische/detoxifying-my-social-media/.venv/lib/python3.9/site-packages/pandas/core/computation/expr.py?line=810'>811</a>\u001b[0m \u001b[39mself\u001b[39m\u001b[39m.\u001b[39mterms \u001b[39m=\u001b[39m \u001b[39mself\u001b[39;49m\u001b[39m.\u001b[39;49mparse()\n",
      "File \u001b[0;32m~/neuefische/detoxifying-my-social-media/.venv/lib/python3.9/site-packages/pandas/core/computation/expr.py:830\u001b[0m, in \u001b[0;36mExpr.parse\u001b[0;34m(self)\u001b[0m\n\u001b[1;32m    <a href='file:///Users/kw/neuefische/detoxifying-my-social-media/.venv/lib/python3.9/site-packages/pandas/core/computation/expr.py?line=825'>826</a>\u001b[0m \u001b[39mdef\u001b[39;00m \u001b[39mparse\u001b[39m(\u001b[39mself\u001b[39m):\n\u001b[1;32m    <a href='file:///Users/kw/neuefische/detoxifying-my-social-media/.venv/lib/python3.9/site-packages/pandas/core/computation/expr.py?line=826'>827</a>\u001b[0m     \u001b[39m\"\"\"\u001b[39;00m\n\u001b[1;32m    <a href='file:///Users/kw/neuefische/detoxifying-my-social-media/.venv/lib/python3.9/site-packages/pandas/core/computation/expr.py?line=827'>828</a>\u001b[0m \u001b[39m    Parse an expression.\u001b[39;00m\n\u001b[1;32m    <a href='file:///Users/kw/neuefische/detoxifying-my-social-media/.venv/lib/python3.9/site-packages/pandas/core/computation/expr.py?line=828'>829</a>\u001b[0m \u001b[39m    \"\"\"\u001b[39;00m\n\u001b[0;32m--> <a href='file:///Users/kw/neuefische/detoxifying-my-social-media/.venv/lib/python3.9/site-packages/pandas/core/computation/expr.py?line=829'>830</a>\u001b[0m     \u001b[39mreturn\u001b[39;00m \u001b[39mself\u001b[39;49m\u001b[39m.\u001b[39;49m_visitor\u001b[39m.\u001b[39;49mvisit(\u001b[39mself\u001b[39;49m\u001b[39m.\u001b[39;49mexpr)\n",
      "File \u001b[0;32m~/neuefische/detoxifying-my-social-media/.venv/lib/python3.9/site-packages/pandas/core/computation/expr.py:415\u001b[0m, in \u001b[0;36mBaseExprVisitor.visit\u001b[0;34m(self, node, **kwargs)\u001b[0m\n\u001b[1;32m    <a href='file:///Users/kw/neuefische/detoxifying-my-social-media/.venv/lib/python3.9/site-packages/pandas/core/computation/expr.py?line=412'>413</a>\u001b[0m method \u001b[39m=\u001b[39m \u001b[39m\"\u001b[39m\u001b[39mvisit_\u001b[39m\u001b[39m\"\u001b[39m \u001b[39m+\u001b[39m \u001b[39mtype\u001b[39m(node)\u001b[39m.\u001b[39m\u001b[39m__name__\u001b[39m\n\u001b[1;32m    <a href='file:///Users/kw/neuefische/detoxifying-my-social-media/.venv/lib/python3.9/site-packages/pandas/core/computation/expr.py?line=413'>414</a>\u001b[0m visitor \u001b[39m=\u001b[39m \u001b[39mgetattr\u001b[39m(\u001b[39mself\u001b[39m, method)\n\u001b[0;32m--> <a href='file:///Users/kw/neuefische/detoxifying-my-social-media/.venv/lib/python3.9/site-packages/pandas/core/computation/expr.py?line=414'>415</a>\u001b[0m \u001b[39mreturn\u001b[39;00m visitor(node, \u001b[39m*\u001b[39;49m\u001b[39m*\u001b[39;49mkwargs)\n",
      "File \u001b[0;32m~/neuefische/detoxifying-my-social-media/.venv/lib/python3.9/site-packages/pandas/core/computation/expr.py:421\u001b[0m, in \u001b[0;36mBaseExprVisitor.visit_Module\u001b[0;34m(self, node, **kwargs)\u001b[0m\n\u001b[1;32m    <a href='file:///Users/kw/neuefische/detoxifying-my-social-media/.venv/lib/python3.9/site-packages/pandas/core/computation/expr.py?line=418'>419</a>\u001b[0m     \u001b[39mraise\u001b[39;00m \u001b[39mSyntaxError\u001b[39;00m(\u001b[39m\"\u001b[39m\u001b[39monly a single expression is allowed\u001b[39m\u001b[39m\"\u001b[39m)\n\u001b[1;32m    <a href='file:///Users/kw/neuefische/detoxifying-my-social-media/.venv/lib/python3.9/site-packages/pandas/core/computation/expr.py?line=419'>420</a>\u001b[0m expr \u001b[39m=\u001b[39m node\u001b[39m.\u001b[39mbody[\u001b[39m0\u001b[39m]\n\u001b[0;32m--> <a href='file:///Users/kw/neuefische/detoxifying-my-social-media/.venv/lib/python3.9/site-packages/pandas/core/computation/expr.py?line=420'>421</a>\u001b[0m \u001b[39mreturn\u001b[39;00m \u001b[39mself\u001b[39;49m\u001b[39m.\u001b[39;49mvisit(expr, \u001b[39m*\u001b[39;49m\u001b[39m*\u001b[39;49mkwargs)\n",
      "File \u001b[0;32m~/neuefische/detoxifying-my-social-media/.venv/lib/python3.9/site-packages/pandas/core/computation/expr.py:415\u001b[0m, in \u001b[0;36mBaseExprVisitor.visit\u001b[0;34m(self, node, **kwargs)\u001b[0m\n\u001b[1;32m    <a href='file:///Users/kw/neuefische/detoxifying-my-social-media/.venv/lib/python3.9/site-packages/pandas/core/computation/expr.py?line=412'>413</a>\u001b[0m method \u001b[39m=\u001b[39m \u001b[39m\"\u001b[39m\u001b[39mvisit_\u001b[39m\u001b[39m\"\u001b[39m \u001b[39m+\u001b[39m \u001b[39mtype\u001b[39m(node)\u001b[39m.\u001b[39m\u001b[39m__name__\u001b[39m\n\u001b[1;32m    <a href='file:///Users/kw/neuefische/detoxifying-my-social-media/.venv/lib/python3.9/site-packages/pandas/core/computation/expr.py?line=413'>414</a>\u001b[0m visitor \u001b[39m=\u001b[39m \u001b[39mgetattr\u001b[39m(\u001b[39mself\u001b[39m, method)\n\u001b[0;32m--> <a href='file:///Users/kw/neuefische/detoxifying-my-social-media/.venv/lib/python3.9/site-packages/pandas/core/computation/expr.py?line=414'>415</a>\u001b[0m \u001b[39mreturn\u001b[39;00m visitor(node, \u001b[39m*\u001b[39;49m\u001b[39m*\u001b[39;49mkwargs)\n",
      "File \u001b[0;32m~/neuefische/detoxifying-my-social-media/.venv/lib/python3.9/site-packages/pandas/core/computation/expr.py:424\u001b[0m, in \u001b[0;36mBaseExprVisitor.visit_Expr\u001b[0;34m(self, node, **kwargs)\u001b[0m\n\u001b[1;32m    <a href='file:///Users/kw/neuefische/detoxifying-my-social-media/.venv/lib/python3.9/site-packages/pandas/core/computation/expr.py?line=422'>423</a>\u001b[0m \u001b[39mdef\u001b[39;00m \u001b[39mvisit_Expr\u001b[39m(\u001b[39mself\u001b[39m, node, \u001b[39m*\u001b[39m\u001b[39m*\u001b[39mkwargs):\n\u001b[0;32m--> <a href='file:///Users/kw/neuefische/detoxifying-my-social-media/.venv/lib/python3.9/site-packages/pandas/core/computation/expr.py?line=423'>424</a>\u001b[0m     \u001b[39mreturn\u001b[39;00m \u001b[39mself\u001b[39;49m\u001b[39m.\u001b[39;49mvisit(node\u001b[39m.\u001b[39;49mvalue, \u001b[39m*\u001b[39;49m\u001b[39m*\u001b[39;49mkwargs)\n",
      "File \u001b[0;32m~/neuefische/detoxifying-my-social-media/.venv/lib/python3.9/site-packages/pandas/core/computation/expr.py:415\u001b[0m, in \u001b[0;36mBaseExprVisitor.visit\u001b[0;34m(self, node, **kwargs)\u001b[0m\n\u001b[1;32m    <a href='file:///Users/kw/neuefische/detoxifying-my-social-media/.venv/lib/python3.9/site-packages/pandas/core/computation/expr.py?line=412'>413</a>\u001b[0m method \u001b[39m=\u001b[39m \u001b[39m\"\u001b[39m\u001b[39mvisit_\u001b[39m\u001b[39m\"\u001b[39m \u001b[39m+\u001b[39m \u001b[39mtype\u001b[39m(node)\u001b[39m.\u001b[39m\u001b[39m__name__\u001b[39m\n\u001b[1;32m    <a href='file:///Users/kw/neuefische/detoxifying-my-social-media/.venv/lib/python3.9/site-packages/pandas/core/computation/expr.py?line=413'>414</a>\u001b[0m visitor \u001b[39m=\u001b[39m \u001b[39mgetattr\u001b[39m(\u001b[39mself\u001b[39m, method)\n\u001b[0;32m--> <a href='file:///Users/kw/neuefische/detoxifying-my-social-media/.venv/lib/python3.9/site-packages/pandas/core/computation/expr.py?line=414'>415</a>\u001b[0m \u001b[39mreturn\u001b[39;00m visitor(node, \u001b[39m*\u001b[39;49m\u001b[39m*\u001b[39;49mkwargs)\n",
      "File \u001b[0;32m~/neuefische/detoxifying-my-social-media/.venv/lib/python3.9/site-packages/pandas/core/computation/expr.py:750\u001b[0m, in \u001b[0;36mBaseExprVisitor.visit_BoolOp\u001b[0;34m(self, node, **kwargs)\u001b[0m\n\u001b[1;32m    <a href='file:///Users/kw/neuefische/detoxifying-my-social-media/.venv/lib/python3.9/site-packages/pandas/core/computation/expr.py?line=746'>747</a>\u001b[0m     \u001b[39mreturn\u001b[39;00m \u001b[39mself\u001b[39m\u001b[39m.\u001b[39m_maybe_evaluate_binop(op, node\u001b[39m.\u001b[39mop, lhs, rhs)\n\u001b[1;32m    <a href='file:///Users/kw/neuefische/detoxifying-my-social-media/.venv/lib/python3.9/site-packages/pandas/core/computation/expr.py?line=748'>749</a>\u001b[0m operands \u001b[39m=\u001b[39m node\u001b[39m.\u001b[39mvalues\n\u001b[0;32m--> <a href='file:///Users/kw/neuefische/detoxifying-my-social-media/.venv/lib/python3.9/site-packages/pandas/core/computation/expr.py?line=749'>750</a>\u001b[0m \u001b[39mreturn\u001b[39;00m reduce(visitor, operands)\n",
      "File \u001b[0;32m~/neuefische/detoxifying-my-social-media/.venv/lib/python3.9/site-packages/pandas/core/computation/expr.py:743\u001b[0m, in \u001b[0;36mBaseExprVisitor.visit_BoolOp.<locals>.visitor\u001b[0;34m(x, y)\u001b[0m\n\u001b[1;32m    <a href='file:///Users/kw/neuefische/detoxifying-my-social-media/.venv/lib/python3.9/site-packages/pandas/core/computation/expr.py?line=741'>742</a>\u001b[0m \u001b[39mdef\u001b[39;00m \u001b[39mvisitor\u001b[39m(x, y):\n\u001b[0;32m--> <a href='file:///Users/kw/neuefische/detoxifying-my-social-media/.venv/lib/python3.9/site-packages/pandas/core/computation/expr.py?line=742'>743</a>\u001b[0m     lhs \u001b[39m=\u001b[39m \u001b[39mself\u001b[39;49m\u001b[39m.\u001b[39;49m_try_visit_binop(x)\n\u001b[1;32m    <a href='file:///Users/kw/neuefische/detoxifying-my-social-media/.venv/lib/python3.9/site-packages/pandas/core/computation/expr.py?line=743'>744</a>\u001b[0m     rhs \u001b[39m=\u001b[39m \u001b[39mself\u001b[39m\u001b[39m.\u001b[39m_try_visit_binop(y)\n\u001b[1;32m    <a href='file:///Users/kw/neuefische/detoxifying-my-social-media/.venv/lib/python3.9/site-packages/pandas/core/computation/expr.py?line=745'>746</a>\u001b[0m     op, op_class, lhs, rhs \u001b[39m=\u001b[39m \u001b[39mself\u001b[39m\u001b[39m.\u001b[39m_maybe_transform_eq_ne(node, lhs, rhs)\n",
      "File \u001b[0;32m~/neuefische/detoxifying-my-social-media/.venv/lib/python3.9/site-packages/pandas/core/computation/expr.py:739\u001b[0m, in \u001b[0;36mBaseExprVisitor._try_visit_binop\u001b[0;34m(self, bop)\u001b[0m\n\u001b[1;32m    <a href='file:///Users/kw/neuefische/detoxifying-my-social-media/.venv/lib/python3.9/site-packages/pandas/core/computation/expr.py?line=736'>737</a>\u001b[0m \u001b[39mif\u001b[39;00m \u001b[39misinstance\u001b[39m(bop, (Op, Term)):\n\u001b[1;32m    <a href='file:///Users/kw/neuefische/detoxifying-my-social-media/.venv/lib/python3.9/site-packages/pandas/core/computation/expr.py?line=737'>738</a>\u001b[0m     \u001b[39mreturn\u001b[39;00m bop\n\u001b[0;32m--> <a href='file:///Users/kw/neuefische/detoxifying-my-social-media/.venv/lib/python3.9/site-packages/pandas/core/computation/expr.py?line=738'>739</a>\u001b[0m \u001b[39mreturn\u001b[39;00m \u001b[39mself\u001b[39;49m\u001b[39m.\u001b[39;49mvisit(bop)\n",
      "File \u001b[0;32m~/neuefische/detoxifying-my-social-media/.venv/lib/python3.9/site-packages/pandas/core/computation/expr.py:415\u001b[0m, in \u001b[0;36mBaseExprVisitor.visit\u001b[0;34m(self, node, **kwargs)\u001b[0m\n\u001b[1;32m    <a href='file:///Users/kw/neuefische/detoxifying-my-social-media/.venv/lib/python3.9/site-packages/pandas/core/computation/expr.py?line=412'>413</a>\u001b[0m method \u001b[39m=\u001b[39m \u001b[39m\"\u001b[39m\u001b[39mvisit_\u001b[39m\u001b[39m\"\u001b[39m \u001b[39m+\u001b[39m \u001b[39mtype\u001b[39m(node)\u001b[39m.\u001b[39m\u001b[39m__name__\u001b[39m\n\u001b[1;32m    <a href='file:///Users/kw/neuefische/detoxifying-my-social-media/.venv/lib/python3.9/site-packages/pandas/core/computation/expr.py?line=413'>414</a>\u001b[0m visitor \u001b[39m=\u001b[39m \u001b[39mgetattr\u001b[39m(\u001b[39mself\u001b[39m, method)\n\u001b[0;32m--> <a href='file:///Users/kw/neuefische/detoxifying-my-social-media/.venv/lib/python3.9/site-packages/pandas/core/computation/expr.py?line=414'>415</a>\u001b[0m \u001b[39mreturn\u001b[39;00m visitor(node, \u001b[39m*\u001b[39;49m\u001b[39m*\u001b[39;49mkwargs)\n",
      "File \u001b[0;32m~/neuefische/detoxifying-my-social-media/.venv/lib/python3.9/site-packages/pandas/core/computation/expr.py:549\u001b[0m, in \u001b[0;36mBaseExprVisitor.visit_Name\u001b[0;34m(self, node, **kwargs)\u001b[0m\n\u001b[1;32m    <a href='file:///Users/kw/neuefische/detoxifying-my-social-media/.venv/lib/python3.9/site-packages/pandas/core/computation/expr.py?line=547'>548</a>\u001b[0m \u001b[39mdef\u001b[39;00m \u001b[39mvisit_Name\u001b[39m(\u001b[39mself\u001b[39m, node, \u001b[39m*\u001b[39m\u001b[39m*\u001b[39mkwargs):\n\u001b[0;32m--> <a href='file:///Users/kw/neuefische/detoxifying-my-social-media/.venv/lib/python3.9/site-packages/pandas/core/computation/expr.py?line=548'>549</a>\u001b[0m     \u001b[39mreturn\u001b[39;00m \u001b[39mself\u001b[39;49m\u001b[39m.\u001b[39;49mterm_type(node\u001b[39m.\u001b[39;49mid, \u001b[39mself\u001b[39;49m\u001b[39m.\u001b[39;49menv, \u001b[39m*\u001b[39;49m\u001b[39m*\u001b[39;49mkwargs)\n",
      "File \u001b[0;32m~/neuefische/detoxifying-my-social-media/.venv/lib/python3.9/site-packages/pandas/core/computation/ops.py:98\u001b[0m, in \u001b[0;36mTerm.__init__\u001b[0;34m(self, name, env, side, encoding)\u001b[0m\n\u001b[1;32m     <a href='file:///Users/kw/neuefische/detoxifying-my-social-media/.venv/lib/python3.9/site-packages/pandas/core/computation/ops.py?line=95'>96</a>\u001b[0m tname \u001b[39m=\u001b[39m \u001b[39mstr\u001b[39m(name)\n\u001b[1;32m     <a href='file:///Users/kw/neuefische/detoxifying-my-social-media/.venv/lib/python3.9/site-packages/pandas/core/computation/ops.py?line=96'>97</a>\u001b[0m \u001b[39mself\u001b[39m\u001b[39m.\u001b[39mis_local \u001b[39m=\u001b[39m tname\u001b[39m.\u001b[39mstartswith(LOCAL_TAG) \u001b[39mor\u001b[39;00m tname \u001b[39min\u001b[39;00m DEFAULT_GLOBALS\n\u001b[0;32m---> <a href='file:///Users/kw/neuefische/detoxifying-my-social-media/.venv/lib/python3.9/site-packages/pandas/core/computation/ops.py?line=97'>98</a>\u001b[0m \u001b[39mself\u001b[39m\u001b[39m.\u001b[39m_value \u001b[39m=\u001b[39m \u001b[39mself\u001b[39;49m\u001b[39m.\u001b[39;49m_resolve_name()\n\u001b[1;32m     <a href='file:///Users/kw/neuefische/detoxifying-my-social-media/.venv/lib/python3.9/site-packages/pandas/core/computation/ops.py?line=98'>99</a>\u001b[0m \u001b[39mself\u001b[39m\u001b[39m.\u001b[39mencoding \u001b[39m=\u001b[39m encoding\n",
      "File \u001b[0;32m~/neuefische/detoxifying-my-social-media/.venv/lib/python3.9/site-packages/pandas/core/computation/ops.py:115\u001b[0m, in \u001b[0;36mTerm._resolve_name\u001b[0;34m(self)\u001b[0m\n\u001b[1;32m    <a href='file:///Users/kw/neuefische/detoxifying-my-social-media/.venv/lib/python3.9/site-packages/pandas/core/computation/ops.py?line=113'>114</a>\u001b[0m \u001b[39mdef\u001b[39;00m \u001b[39m_resolve_name\u001b[39m(\u001b[39mself\u001b[39m):\n\u001b[0;32m--> <a href='file:///Users/kw/neuefische/detoxifying-my-social-media/.venv/lib/python3.9/site-packages/pandas/core/computation/ops.py?line=114'>115</a>\u001b[0m     res \u001b[39m=\u001b[39m \u001b[39mself\u001b[39;49m\u001b[39m.\u001b[39;49menv\u001b[39m.\u001b[39;49mresolve(\u001b[39mself\u001b[39;49m\u001b[39m.\u001b[39;49mlocal_name, is_local\u001b[39m=\u001b[39;49m\u001b[39mself\u001b[39;49m\u001b[39m.\u001b[39;49mis_local)\n\u001b[1;32m    <a href='file:///Users/kw/neuefische/detoxifying-my-social-media/.venv/lib/python3.9/site-packages/pandas/core/computation/ops.py?line=115'>116</a>\u001b[0m     \u001b[39mself\u001b[39m\u001b[39m.\u001b[39mupdate(res)\n\u001b[1;32m    <a href='file:///Users/kw/neuefische/detoxifying-my-social-media/.venv/lib/python3.9/site-packages/pandas/core/computation/ops.py?line=117'>118</a>\u001b[0m     \u001b[39mif\u001b[39;00m \u001b[39mhasattr\u001b[39m(res, \u001b[39m\"\u001b[39m\u001b[39mndim\u001b[39m\u001b[39m\"\u001b[39m) \u001b[39mand\u001b[39;00m res\u001b[39m.\u001b[39mndim \u001b[39m>\u001b[39m \u001b[39m2\u001b[39m:\n",
      "File \u001b[0;32m~/neuefische/detoxifying-my-social-media/.venv/lib/python3.9/site-packages/pandas/core/computation/scope.py:211\u001b[0m, in \u001b[0;36mScope.resolve\u001b[0;34m(self, key, is_local)\u001b[0m\n\u001b[1;32m    <a href='file:///Users/kw/neuefische/detoxifying-my-social-media/.venv/lib/python3.9/site-packages/pandas/core/computation/scope.py?line=206'>207</a>\u001b[0m \u001b[39mexcept\u001b[39;00m \u001b[39mKeyError\u001b[39;00m \u001b[39mas\u001b[39;00m err:\n\u001b[1;32m    <a href='file:///Users/kw/neuefische/detoxifying-my-social-media/.venv/lib/python3.9/site-packages/pandas/core/computation/scope.py?line=207'>208</a>\u001b[0m     \u001b[39m# runtime import because ops imports from scope\u001b[39;00m\n\u001b[1;32m    <a href='file:///Users/kw/neuefische/detoxifying-my-social-media/.venv/lib/python3.9/site-packages/pandas/core/computation/scope.py?line=208'>209</a>\u001b[0m     \u001b[39mfrom\u001b[39;00m \u001b[39mpandas\u001b[39;00m\u001b[39m.\u001b[39;00m\u001b[39mcore\u001b[39;00m\u001b[39m.\u001b[39;00m\u001b[39mcomputation\u001b[39;00m\u001b[39m.\u001b[39;00m\u001b[39mops\u001b[39;00m \u001b[39mimport\u001b[39;00m UndefinedVariableError\n\u001b[0;32m--> <a href='file:///Users/kw/neuefische/detoxifying-my-social-media/.venv/lib/python3.9/site-packages/pandas/core/computation/scope.py?line=210'>211</a>\u001b[0m     \u001b[39mraise\u001b[39;00m UndefinedVariableError(key, is_local) \u001b[39mfrom\u001b[39;00m \u001b[39merr\u001b[39;00m\n",
      "\u001b[0;31mUndefinedVariableError\u001b[0m: name 'pred' is not defined"
     ]
    }
   ],
   "source": [
    "#falsealarm_baseline = \n",
    "df.query(\"pred or toxic\")\n",
    "\n",
    "#df.loc[(df['pred'] == 1& df['toxic'] == 0), 'comment_text']\n",
    "#falsealarm_baseline.to_csv('falsealarm_baseline.csv')\n",
    "#misses_baseline = df.loc[(df['pred'] == 0 & df['toxic'] == 1), 'comment_text']\n",
    "#misses_baseline.to_csv('misses_baseline.csv')"
   ]
  },
  {
   "cell_type": "code",
   "execution_count": null,
   "metadata": {},
   "outputs": [],
   "source": []
  }
 ],
 "metadata": {
  "interpreter": {
   "hash": "ad347432433d227a6a1af674451af37b20c66c076ff8f20805b46e8b7d486412"
  },
  "kernelspec": {
   "display_name": "Python 3.9.8 ('.venv': venv)",
   "language": "python",
   "name": "python3"
  },
  "language_info": {
   "codemirror_mode": {
    "name": "ipython",
    "version": 3
   },
   "file_extension": ".py",
   "mimetype": "text/x-python",
   "name": "python",
   "nbconvert_exporter": "python",
   "pygments_lexer": "ipython3",
   "version": "3.9.8"
  },
  "orig_nbformat": 4
 },
 "nbformat": 4,
 "nbformat_minor": 2
}
