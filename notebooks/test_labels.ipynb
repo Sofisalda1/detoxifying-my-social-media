{
 "cells": [
  {
   "cell_type": "code",
   "execution_count": 1,
   "metadata": {},
   "outputs": [],
   "source": [
    "import pandas as pd\n",
    "import numpy as np\n",
    "import re\n",
    "import string\n",
    "from nltk.stem.wordnet import WordNetLemmatizer\n",
    "from nltk.corpus import stopwords\n",
    "from timeit import default_timer as timer\n",
    "\n",
    "import matplotlib.pyplot as plt\n",
    "import seaborn as sns\n",
    "\n",
    "from sklearn.feature_extraction.text import TfidfVectorizer\n",
    "from sklearn.linear_model import LogisticRegression\n",
    "from sklearn.naive_bayes import MultinomialNB\n",
    "from sklearn.svm import LinearSVC\n",
    "from sklearn.ensemble import RandomForestClassifier\n",
    "from sklearn.tree import DecisionTreeClassifier\n",
    "\n",
    "from sklearn.metrics import accuracy_score, f1_score, recall_score, precision_score, roc_auc_score, roc_curve\n",
    "from sklearn.metrics import confusion_matrix\n",
    "from sklearn.model_selection import cross_val_score\n",
    "from sklearn.metrics import fbeta_score\n",
    "from statistics import mean\n",
    "from sklearn.metrics import hamming_loss\n",
    "from sklearn.model_selection import StratifiedKFold\n",
    "from sklearn.model_selection import GridSearchCV\n",
    "from sklearn.model_selection import ShuffleSplit\n",
    "from sklearn.model_selection import learning_curve\n",
    "\n",
    "from sklearn.metrics import roc_auc_score, confusion_matrix\n",
    "import statistics\n",
    "from sklearn.metrics import recall_score\n",
    "\n",
    "from wordcloud import WordCloud\n",
    "from collections import Counter\n",
    "\n",
    "from sklearn.pipeline import Pipeline\n",
    "\n",
    "from sklearn.ensemble import AdaBoostClassifier\n",
    "from sklearn.ensemble import BaggingClassifier\n",
    "from sklearn.ensemble import GradientBoostingClassifier\n",
    "from sklearn.ensemble import VotingClassifier\n",
    "#import xgboost as xgb\n",
    "import warnings\n",
    "warnings.filterwarnings('ignore')\n",
    "\n",
    "\n",
    "test = pd.read_csv(\"../data/test_wikipedia_pre_clean.csv\")\n",
    "test_y = pd.read_csv(\"../data/test_labels_wikipedia.csv\")\n",
    "\n"
   ]
  },
  {
   "cell_type": "code",
   "execution_count": 2,
   "metadata": {},
   "outputs": [
    {
     "data": {
      "text/plain": [
       "0         00001cee341fdb12\n",
       "1         0000247867823ef7\n",
       "2         00013b17ad220c46\n",
       "3         00017563c3f7919a\n",
       "4         00017695ad8997eb\n",
       "                ...       \n",
       "153142    fffcd0960ee309b5\n",
       "153143    fffd7a9a6eb32c16\n",
       "153144    fffda9e8d6fafa9e\n",
       "153145    fffe8f1340a79fc2\n",
       "153146    ffffce3fb183ee80\n",
       "Name: id, Length: 153147, dtype: object"
      ]
     },
     "execution_count": 2,
     "metadata": {},
     "output_type": "execute_result"
    }
   ],
   "source": [
    "test['id']"
   ]
  },
  {
   "cell_type": "code",
   "execution_count": 3,
   "metadata": {},
   "outputs": [
    {
     "data": {
      "text/plain": [
       "0         00001cee341fdb12\n",
       "1         0000247867823ef7\n",
       "2         00013b17ad220c46\n",
       "3         00017563c3f7919a\n",
       "4         00017695ad8997eb\n",
       "                ...       \n",
       "153159    fffcd0960ee309b5\n",
       "153160    fffd7a9a6eb32c16\n",
       "153161    fffda9e8d6fafa9e\n",
       "153162    fffe8f1340a79fc2\n",
       "153163    ffffce3fb183ee80\n",
       "Name: id, Length: 153164, dtype: object"
      ]
     },
     "execution_count": 3,
     "metadata": {},
     "output_type": "execute_result"
    }
   ],
   "source": [
    "test_y['id']"
   ]
  },
  {
   "cell_type": "code",
   "execution_count": 4,
   "metadata": {},
   "outputs": [
    {
     "name": "stdout",
     "output_type": "stream",
     "text": [
      "                 id                                       comment_text  toxic\n",
      "0  00001cee341fdb12  Yo bitch Ja Rule is more succesful then youll ...     -1\n",
      "1  0000247867823ef7           From RfC  The title is fine as it is IMO     -1\n",
      "2  00013b17ad220c46              Sources   Zawe Ashton on Lapland          -1\n",
      "3  00017563c3f7919a  If you have a look back at the source the info...     -1\n",
      "4  00017695ad8997eb          I do not anonymously edit articles at all     -1\n"
     ]
    }
   ],
   "source": [
    "result = pd.merge(test,\n",
    "                 test_y[['id','toxic']],\n",
    "                 on='id', \n",
    "                 how='left')\n",
    "print(result.head())"
   ]
  },
  {
   "cell_type": "code",
   "execution_count": 6,
   "metadata": {},
   "outputs": [],
   "source": [
    "result.to_csv('./data/test_wikipedia_pre_clean.csv', index=False)"
   ]
  },
  {
   "cell_type": "code",
   "execution_count": null,
   "metadata": {},
   "outputs": [],
   "source": []
  },
  {
   "cell_type": "code",
   "execution_count": null,
   "metadata": {},
   "outputs": [],
   "source": []
  }
 ],
 "metadata": {
  "interpreter": {
   "hash": "ad347432433d227a6a1af674451af37b20c66c076ff8f20805b46e8b7d486412"
  },
  "kernelspec": {
   "display_name": "Python 3.9.8 ('.venv': venv)",
   "language": "python",
   "name": "python3"
  },
  "language_info": {
   "codemirror_mode": {
    "name": "ipython",
    "version": 3
   },
   "file_extension": ".py",
   "mimetype": "text/x-python",
   "name": "python",
   "nbconvert_exporter": "python",
   "pygments_lexer": "ipython3",
   "version": "3.9.8"
  },
  "orig_nbformat": 4
 },
 "nbformat": 4,
 "nbformat_minor": 2
}
