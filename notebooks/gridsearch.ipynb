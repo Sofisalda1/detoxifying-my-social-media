{
 "cells": [
  {
   "cell_type": "code",
   "execution_count": 1,
   "metadata": {},
   "outputs": [],
   "source": [
    "\n",
    "import pandas as pd\n",
    "\n",
    "from sklearn.linear_model import LogisticRegression\n",
    "from sklearn.metrics import roc_auc_score\n",
    "from sklearn.feature_extraction.text import CountVectorizer, TfidfVectorizer, TfidfTransformer\n",
    "\n",
    "from nltk.corpus import stopwords\n",
    "\n",
    "import warnings\n",
    "warnings.filterwarnings('ignore')"
   ]
  },
  {
   "cell_type": "code",
   "execution_count": 2,
   "metadata": {},
   "outputs": [],
   "source": [
    "train = pd.read_csv(\"/Users/sofiasaldarriagajimenez/Documents/NeueFischeBC/detoxifying-my-social-media/data/train.csv\")\n",
    "test = pd.read_csv(\"/Users/sofiasaldarriagajimenez/Documents/NeueFischeBC/detoxifying-my-social-media/data/test.csv\")\n",
    "test_labels = pd.read_csv(\"/Users/sofiasaldarriagajimenez/Documents/NeueFischeBC/detoxifying-my-social-media/data/test_labels.csv\")\n",
    "test = pd.concat([test, test_labels], axis=1)\n",
    "test = test.loc[test.toxic !=-1]"
   ]
  },
  {
   "cell_type": "code",
   "execution_count": 3,
   "metadata": {},
   "outputs": [],
   "source": [
    "Y = train[\"toxic\"]\n",
    "X = train[\"comment_text\"]\n",
    "Y_test = test[\"toxic\"]\n",
    "X_test= test[\"comment_text\"]"
   ]
  },
  {
   "cell_type": "code",
   "execution_count": 4,
   "metadata": {},
   "outputs": [
    {
     "name": "stdout",
     "output_type": "stream",
     "text": [
      "0.9986641127437121\n",
      "0.8690194773940915\n"
     ]
    }
   ],
   "source": [
    "vect = TfidfVectorizer(ngram_range = (1, 5), stop_words = None, min_df = 4, lowercase = False)\n",
    "X_vect = vect.fit_transform(X)\n",
    "modelLR = LogisticRegression(max_iter=200, penalty= 'none')\n",
    "modelLR.fit(X_vect, Y)\n",
    "Y_train_pred = modelLR.predict(X_vect)\n",
    "print(roc_auc_score(Y, Y_train_pred))\n",
    "\n",
    "X_test_vect = vect.transform(X_test)\n",
    "Y_pred = modelLR.predict(X_test_vect)\n",
    "print(roc_auc_score(Y_test, Y_pred))"
   ]
  },
  {
   "cell_type": "code",
   "execution_count": 5,
   "metadata": {},
   "outputs": [],
   "source": [
    "import pickle\n",
    "# saving\n",
    "with open('../models/vect.pickle', 'wb') as handle:\n",
    "    pickle.dump(vect, handle, protocol=pickle.HIGHEST_PROTOCOL)\n",
    "with open('../models/modelLR.pickle', 'wb') as handle:\n",
    "    pickle.dump(modelLR, handle, protocol=pickle.HIGHEST_PROTOCOL)"
   ]
  }
 ],
 "metadata": {
  "language_info": {
   "name": "python"
  },
  "orig_nbformat": 4
 },
 "nbformat": 4,
 "nbformat_minor": 2
}
